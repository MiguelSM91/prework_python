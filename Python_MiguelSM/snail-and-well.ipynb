{
 "cells": [
  {
   "cell_type": "markdown",
   "metadata": {},
   "source": [
    "<img src=\"https://bit.ly/2VnXWr2\" width=\"100\" align=\"left\">"
   ]
  },
  {
   "cell_type": "markdown",
   "metadata": {},
   "source": [
    "# The Snail and the Well\n",
    "\n",
    "A snail falls at the bottom of a 125 cm well. Each day the snail rises 30 cm. But at night, while sleeping, slides 20 cm because the walls are wet. How many days does it take for the snail to escape the well?\n",
    "\n",
    "**Hint**: The snail gets out of the well when it surpasses the 125cm of height.\n",
    "\n",
    "## Tools\n",
    "\n",
    "1. Loop: **while**\n",
    "2. Conditional statements: **if-else**\n",
    "3. Function: **print()**\n",
    "\n",
    "## Tasks\n",
    "\n",
    "#### 1. Assign the challenge data to variables with representative names: `well_height`, `daily_distance`, `nightly_distance` and `snail_position`."
   ]
  },
  {
   "cell_type": "code",
   "execution_count": 77,
   "metadata": {},
   "outputs": [],
   "source": [
    "well_height=125\n",
    "daily_distance=30\n",
    "nightly_distance=20\n",
    "snail_position=0"
   ]
  },
  {
   "cell_type": "markdown",
   "metadata": {},
   "source": [
    "#### 2. Create a variable `days` to keep count of the days that pass until the snail escapes the well. "
   ]
  },
  {
   "cell_type": "code",
   "execution_count": 78,
   "metadata": {},
   "outputs": [],
   "source": [
    "days=0"
   ]
  },
  {
   "cell_type": "markdown",
   "metadata": {},
   "source": [
    "#### 3. Find the solution to the challenge using the variables defined above. "
   ]
  },
  {
   "cell_type": "code",
   "execution_count": 79,
   "metadata": {},
   "outputs": [
    {
     "name": "stdout",
     "output_type": "stream",
     "text": [
      "the poor snail has just fallen in the well, but it will make its biggest effort to escape!\n",
      "Day 1 . It is doing its best! He is 10 cm from the well ground.\n",
      "Day 2 . It is doing its best! He is 20 cm from the well ground.\n",
      "Day 3 . It is doing its best! He is 30 cm from the well ground.\n",
      "Day 4 . It is doing its best! He is 40 cm from the well ground.\n",
      "Day 5 . It is doing its best! He is 50 cm from the well ground.\n",
      "Day 6 . It is doing its best! He is 60 cm from the well ground.\n",
      "Day 7 . It is doing its best! He is 70 cm from the well ground.\n",
      "Day 8 . It is doing its best! He is 80 cm from the well ground.\n",
      "Day 9 . It is doing its best! He is 90 cm from the well ground.\n",
      "Day 10 . It is doing its best! He is 100 cm from the well ground.\n",
      "Day 11 . It is doing its best! He is 110 cm from the well ground.\n",
      "Day 12 . It is doing its best! He is 120 cm from the well ground.\n",
      "Day 13 . It is doing its best! He is 130 cm from the well ground.\n",
      "It did it!\n"
     ]
    }
   ],
   "source": [
    "print(\"the poor snail has just fallen in the well, but it will make its biggest effort to escape!\")\n",
    "\n",
    "while snail_position < well_height:\n",
    "    snail_position = snail_position + daily_distance - nightly_distance\n",
    "    days = days + 1\n",
    "    print(\"Day\", days, \". It is doing its best! He is\", snail_position, \"cm from the well ground.\")\n",
    "    \n",
    "    \n",
    "print(\"It did it!\")"
   ]
  },
  {
   "cell_type": "markdown",
   "metadata": {},
   "source": [
    "#### 4. Print the solution."
   ]
  },
  {
   "cell_type": "code",
   "execution_count": 80,
   "metadata": {},
   "outputs": [
    {
     "name": "stdout",
     "output_type": "stream",
     "text": [
      "The snail finally scaped the well after 13 days of hard work\n"
     ]
    }
   ],
   "source": [
    "print(\"The snail finally scaped the well after\", days, \"days of hard work\")"
   ]
  },
  {
   "cell_type": "markdown",
   "metadata": {},
   "source": [
    "## Bonus\n",
    "The distance traveled by the snail each day is now defined by a list.\n",
    "```\n",
    "advance_cm = [30, 21, 33, 77, 44, 45, 23, 45, 12, 34, 55]\n",
    "```\n",
    "On the first day, the snail rises 30cm but during the night it slides 20cm. On the second day, the snail rises 21cm but during the night it slides 20cm, and so on. \n",
    "\n",
    "#### 1. How many days does it take for the snail to escape the well?\n",
    "Follow the same guidelines as in the previous challenge.\n",
    "\n",
    "**Hint**: Remember that the snail gets out of the well when it surpasses the 125cm of height."
   ]
  },
  {
   "cell_type": "code",
   "execution_count": 85,
   "metadata": {},
   "outputs": [
    {
     "name": "stdout",
     "output_type": "stream",
     "text": [
      "The poor snail has just fallen in the well, but he will make its biggest effort to escape!\n",
      "Day 1 . It is doing his best! It is 10 cm from the well ground.\n",
      "Day 2 . It is doing his best! It is 11 cm from the well ground.\n",
      "Day 3 . It is doing his best! It is 24 cm from the well ground.\n",
      "Day 4 . It is doing his best! It is 81 cm from the well ground.\n",
      "Day 5 . It is doing his best! It is 105 cm from the well ground.\n",
      "Day 6 . It is doing his best! It is 130 cm from the well ground.\n",
      "The snail finally scaped the well after 6 days of hard work\n"
     ]
    }
   ],
   "source": [
    "well_height=125\n",
    "advance_cm=[30, 21, 33, 77, 44, 45, 23, 45, 12, 34, 55]\n",
    "nightly_distance=20\n",
    "snail_position=0\n",
    "\n",
    "days=0\n",
    "\n",
    "print(\"The poor snail has just fallen in the well, but he will make its biggest effort to escape!\")\n",
    "\n",
    "for i in advance_cm:\n",
    "    if snail_position < well_height:\n",
    "        snail_position = snail_position + i - nightly_distance\n",
    "        days=days+1\n",
    "        print(\"Day\", days, \". It is doing his best! It is\", snail_position, \"cm from the well ground.\")\n",
    "        \n",
    "  \n",
    "    \n",
    "print(\"The snail finally scaped the well after\", days, \"days of hard work\")"
   ]
  },
  {
   "cell_type": "markdown",
   "metadata": {},
   "source": [
    "#### 2. What is its maximum displacement in one day? And its minimum? Calculate the displacement using only the travel distance of the days used to get out of the well. \n",
    "**Hint**: Remember that displacement means the total distance risen taking into account that the snail slides at night.  "
   ]
  },
  {
   "cell_type": "code",
   "execution_count": 16,
   "metadata": {},
   "outputs": [
    {
     "name": "stdout",
     "output_type": "stream",
     "text": [
      "The maximum displacement in one day was 57 cm , while the minimum was 1 cm.)\n"
     ]
    }
   ],
   "source": [
    "advance_cm=[30, 21, 33, 77, 44, 45]\n",
    "\n",
    "total_advance_cm = [x - 20 for x in advance_cm]\n",
    "\n",
    "max_displacement = max(total_advance_cm)\n",
    "min_displacement = min(total_advance_cm)\n",
    "\n",
    "print(\"The maximum displacement in one day was\", max_displacement, \"cm , while the minimum was\", min_displacement, \"cm.)\")"
   ]
  },
  {
   "cell_type": "markdown",
   "metadata": {},
   "source": [
    "#### 3. What is its average progress? Take into account the snail slides at night."
   ]
  },
  {
   "cell_type": "code",
   "execution_count": 19,
   "metadata": {},
   "outputs": [
    {
     "name": "stdout",
     "output_type": "stream",
     "text": [
      "The average progress was 21.666666666666668 cm.\n"
     ]
    }
   ],
   "source": [
    "total_average= sum(total_advance_cm)/len(total_advance_cm)\n",
    "\n",
    "print(\"The average progress was\", total_average, \"cm.\")"
   ]
  },
  {
   "cell_type": "markdown",
   "metadata": {},
   "source": [
    "#### 4. What is the standard deviation of its displacement? Take into account the snail slides at night."
   ]
  },
  {
   "cell_type": "code",
   "execution_count": 20,
   "metadata": {},
   "outputs": [
    {
     "name": "stdout",
     "output_type": "stream",
     "text": [
      "The standard deviation of its displacement is 19.510680835549195\n"
     ]
    }
   ],
   "source": [
    "import statistics\n",
    "stan_dev= statistics.stdev(total_advance_cm)\n",
    "\n",
    "print(\"The standard deviation of its displacement is\", stan_dev)"
   ]
  }
 ],
 "metadata": {
  "kernelspec": {
   "display_name": "Python 3",
   "language": "python",
   "name": "python3"
  },
  "language_info": {
   "codemirror_mode": {
    "name": "ipython",
    "version": 3
   },
   "file_extension": ".py",
   "mimetype": "text/x-python",
   "name": "python",
   "nbconvert_exporter": "python",
   "pygments_lexer": "ipython3",
   "version": "3.7.4"
  }
 },
 "nbformat": 4,
 "nbformat_minor": 2
}
