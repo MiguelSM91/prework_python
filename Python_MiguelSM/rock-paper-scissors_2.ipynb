{
 "cells": [
  {
   "cell_type": "markdown",
   "metadata": {},
   "source": [
    "<img src=\"https://bit.ly/2VnXWr2\" width=\"100\" align=\"left\">"
   ]
  },
  {
   "cell_type": "markdown",
   "metadata": {},
   "source": [
    "# Rock, Paper & Scissors\n",
    "\n",
    "Let's play the famous game against our computer. You can check the rules [here](https://en.wikipedia.org/wiki/Rock%E2%80%93paper%E2%80%93scissors). \n",
    "\n",
    "## Task\n",
    "Create a program that imitates the playability of the well known game of rock, paper, scissors. Follow the guidelines provided.\n",
    "\n",
    "## Tools\n",
    "1. Loop: **for/while**\n",
    "2. Functions: **input(), print()...**\n",
    "3. Conditional statements: **if, elif, else**\n",
    "4. Definition of functions. Modular programming\n",
    "5. Import modules\n",
    "\n",
    "**To solve this challenge, the use of functions is recommended.**\n",
    "\n",
    "#### 1. Import the choice function of the random module."
   ]
  },
  {
   "cell_type": "code",
   "execution_count": 38,
   "metadata": {},
   "outputs": [],
   "source": [
    "import random"
   ]
  },
  {
   "cell_type": "markdown",
   "metadata": {},
   "source": [
    "#### 2. Create a list that includes the 3 possible gesture options of the game: 'rock', 'paper' or 'scissors'. Store the list in a variable called `gestures`."
   ]
  },
  {
   "cell_type": "code",
   "execution_count": 2,
   "metadata": {},
   "outputs": [],
   "source": [
    "gestures = [\"rock\", \"paper\", \"scissors\"]"
   ]
  },
  {
   "cell_type": "markdown",
   "metadata": {},
   "source": [
    "#### 3. Create a variable called `n_rounds` to store the maximum number of rounds to play in a game. \n",
    "Remember that the number of rounds must be odd: 1, 3, 5, ..."
   ]
  },
  {
   "cell_type": "code",
   "execution_count": 3,
   "metadata": {},
   "outputs": [],
   "source": [
    "n_rounds = 5"
   ]
  },
  {
   "cell_type": "markdown",
   "metadata": {},
   "source": [
    "#### 4. Create a variable called `rounds_to_win` to store the number of rounds that a player must win to win the game.\n",
    "**Hint**: the value stored in `rounds_to_win` depends on the value of `n_rounds`. "
   ]
  },
  {
   "cell_type": "code",
   "execution_count": 4,
   "metadata": {},
   "outputs": [],
   "source": [
    "rounds_to_win = 3"
   ]
  },
  {
   "cell_type": "markdown",
   "metadata": {},
   "source": [
    "#### 5. Create two variables to store the number of rounds that the computer and the player have won. Call these variables `cpu_score` and `player_score`."
   ]
  },
  {
   "cell_type": "code",
   "execution_count": 116,
   "metadata": {},
   "outputs": [],
   "source": [
    "cpu_score = 0\n",
    "player_score = 0"
   ]
  },
  {
   "cell_type": "markdown",
   "metadata": {},
   "source": [
    "#### 6. Define a function that randomly returns one of the 3 gesture options.\n",
    "You will use this function to simulate the gesture choice of the computer. "
   ]
  },
  {
   "cell_type": "code",
   "execution_count": 94,
   "metadata": {},
   "outputs": [],
   "source": [
    "def cpu_choice():\n",
    "    global cpu\n",
    "    cpu = random.choice(gestures)\n",
    "    print(\"CPU plays with:\", cpu)"
   ]
  },
  {
   "cell_type": "code",
   "execution_count": 95,
   "metadata": {},
   "outputs": [
    {
     "name": "stdout",
     "output_type": "stream",
     "text": [
      "CPU plays with: scissors\n"
     ]
    }
   ],
   "source": [
    "cpu_choice()"
   ]
  },
  {
   "cell_type": "markdown",
   "metadata": {},
   "source": [
    "#### 7. Define a function that asks the player which is the gesture he or she wants to show: 'rock', 'paper' or 'scissors'.\n",
    "The player should only be allowed to choose one of the 3 gesture options. If the player's choice is not rock, paper or scissors, keep asking until it is."
   ]
  },
  {
   "cell_type": "code",
   "execution_count": 96,
   "metadata": {},
   "outputs": [],
   "source": [
    "def player_choice():\n",
    "    global player\n",
    "    player = input()\n",
    "    while (player != \"rock\") and (player != \"paper\") and (player != \"scissors\"):\n",
    "        player = input()\n",
    "    print(\"Player plays with:\", player)"
   ]
  },
  {
   "cell_type": "markdown",
   "metadata": {},
   "source": [
    "#### 8. Define a function that checks who won a round. \n",
    "The function should return 0 if there is a tie, 1 if the computer wins and 2 if the player wins."
   ]
  },
  {
   "cell_type": "code",
   "execution_count": 78,
   "metadata": {},
   "outputs": [],
   "source": [
    "def win_check():\n",
    "    global result\n",
    "    if player == cpu:\n",
    "        result = 0\n",
    "        \n",
    "    elif player == \"rock\":\n",
    "        if cpu == \"paper\":\n",
    "            result = 1\n",
    "        elif cpu == \"scissors\":\n",
    "            result = 2\n",
    "    \n",
    "    elif player == \"paper\":\n",
    "        if cpu == \"scissors\":\n",
    "            result = 1\n",
    "        elif cpu == \"rock\":\n",
    "            result = 2\n",
    "            \n",
    "    elif player == \"scissors\":\n",
    "        if cpu == \"rock\":\n",
    "            result = 1\n",
    "        elif cpu== \"paper\":\n",
    "            result = 2"
   ]
  },
  {
   "cell_type": "markdown",
   "metadata": {},
   "source": [
    "#### 9. Define a function that prints the choice of the computer, the choice of the player and a message that announces who won the current round. \n",
    "You should also use this function to update the variables that count the number of rounds that the computer and the player have won. The score of the winner increases by one point. If there is a tie, the score does not increase."
   ]
  },
  {
   "cell_type": "code",
   "execution_count": 87,
   "metadata": {
    "scrolled": true
   },
   "outputs": [],
   "source": [
    "def one_round():\n",
    "    global player_score\n",
    "    global cpu_score\n",
    "    global played_rounds\n",
    "    \n",
    "    player_choice()\n",
    "    \n",
    "    cpu_choice()\n",
    "    \n",
    "    win_check()\n",
    "    \n",
    "    if result == 2:\n",
    "        print(\"Player wins\")\n",
    "        player_score += 1\n",
    "        played_rounds += 1\n",
    "        \n",
    "    elif result == 1:\n",
    "        print(\"CPU wins\")\n",
    "        cpu_score += 1\n",
    "        played_rounds += 1\n",
    "        \n",
    "    elif result == 0:\n",
    "        print(\"Tie\")\n",
    "        played_rounds += 1\n",
    "        "
   ]
  },
  {
   "cell_type": "code",
   "execution_count": null,
   "metadata": {},
   "outputs": [],
   "source": []
  },
  {
   "cell_type": "markdown",
   "metadata": {},
   "source": [
    "#### 10. Now it's time to code the execution of the game using the functions and variables you defined above. \n",
    "\n",
    "First, create a loop structure that repeats while no player reaches the minimum score necessary to win and the number of rounds is less than the maximum number of rounds to play in a game.  \n",
    "\n",
    "Inside the loop, use the functions and variables above to create the execution of a round: ask for the player's choice, generate the random choice of the computer, show the round results, update the scores, etc. "
   ]
  },
  {
   "cell_type": "code",
   "execution_count": 118,
   "metadata": {},
   "outputs": [
    {
     "name": "stdout",
     "output_type": "stream",
     "text": [
      "Game starts!\n",
      "Select your gesture\n",
      "rock\n",
      "Player plays with: rock\n",
      "CPU plays with: paper\n",
      "CPU wins\n",
      "Player 0 points\n",
      "CPU 1 points\n",
      "Round 1 /5\n",
      "------------------------------------\n",
      "Keep playing! Make a new choice\n",
      "rock\n",
      "Player plays with: rock\n",
      "CPU plays with: rock\n",
      "Tie\n",
      "Player 0 points\n",
      "CPU 1 points\n",
      "Round 2 /5\n",
      "------------------------------------\n",
      "Keep playing! Make a new choice\n",
      "rock\n",
      "Player plays with: rock\n",
      "CPU plays with: rock\n",
      "Tie\n",
      "Player 0 points\n",
      "CPU 1 points\n",
      "Round 3 /5\n",
      "------------------------------------\n",
      "Keep playing! Make a new choice\n",
      "rock\n",
      "Player plays with: rock\n",
      "CPU plays with: paper\n",
      "CPU wins\n",
      "Player 0 points\n",
      "CPU 2 points\n",
      "Round 4 /5\n",
      "------------------------------------\n",
      "Keep playing! Make a new choice\n",
      "rock\n",
      "Player plays with: rock\n",
      "CPU plays with: paper\n",
      "CPU wins\n",
      "----> GAME FINISHED <----\n",
      "OMG! CPU is the winner with 3 points, better luck next time :(\n"
     ]
    }
   ],
   "source": [
    "print(\"Game starts!\")\n",
    "played_rounds = 0\n",
    "print(\"Select your gesture\")\n",
    "one_round()\n",
    "\n",
    "while (player_score < rounds_to_win or cpu_score < rounds_to_win) and played_rounds < n_rounds:\n",
    "    print(\"Player\", player_score, \"points\")\n",
    "    print(\"CPU\", cpu_score, \"points\")\n",
    "    print(\"Round\", played_rounds,\"/5\")\n",
    "    print(\"------------------------------------\")\n",
    "    print(\"Keep playing! Make a new choice\")\n",
    "    one_round()\n",
    "    \n",
    "print(\"----> GAME FINISHED <----\")\n",
    "\n",
    "if player_score > cpu_score:\n",
    "    print(\"You are the winner with\", player_score, \"points, congratulations!\")\n",
    "    \n",
    "elif player_score < cpu_score:\n",
    "    print(\"OMG! CPU is the winner with\", cpu_score, \"points, better luck next time :(\")\n",
    "    \n",
    "elif player_score == cpu_score:\n",
    "    print(\"So intense! There is a tie with\", player_score, \"points.\")"
   ]
  },
  {
   "cell_type": "markdown",
   "metadata": {},
   "source": [
    "#### 11. Print the winner of the game based on who won more rounds.\n",
    "Remember that the game might be tied. "
   ]
  },
  {
   "cell_type": "code",
   "execution_count": null,
   "metadata": {},
   "outputs": [],
   "source": [
    "#Solved in the previous cell"
   ]
  },
  {
   "cell_type": "markdown",
   "metadata": {},
   "source": [
    "# Bonus: Rock, Paper, Scissors, Lizard & Spock\n",
    "![](images/rpsls.jpg)\n",
    "\n",
    "In this challenge, you need to improve the previous game by adding two new options. To know more about the rules of the improved version of rock, paper, scissors, check this [link](http://www.samkass.com/theories/RPSSL.html). \n",
    "\n",
    "In addition, you will also need to improve how the game interacts with the player: the number of rounds to play, which must be an odd number, will be requested to the user until a valid number is entered. Define a new function to make that request.\n",
    "\n",
    "**Hint**: Try to reuse the code that you already coded in the previous challenge. If your code is efficient, this bonus will only consist of simple modifications to the original game."
   ]
  },
  {
   "cell_type": "code",
   "execution_count": 30,
   "metadata": {},
   "outputs": [],
   "source": [
    "gestures = [\"rock\", \"paper\", \"scissors\", \"lizard\", \"spock\"]"
   ]
  },
  {
   "cell_type": "code",
   "execution_count": 31,
   "metadata": {},
   "outputs": [],
   "source": [
    "cpu_score = 0\n",
    "player_score = 0"
   ]
  },
  {
   "cell_type": "code",
   "execution_count": 32,
   "metadata": {},
   "outputs": [],
   "source": [
    "def max_rounds():\n",
    "    global n_rounds\n",
    "    global rounds_to_win\n",
    "    n_rounds = int(input())\n",
    "    while n_rounds % 2 == 0:\n",
    "        n_rounds = int(input())\n",
    "    rounds_to_win = int(n_rounds/2)+1"
   ]
  },
  {
   "cell_type": "code",
   "execution_count": 33,
   "metadata": {},
   "outputs": [],
   "source": [
    "def cpu_choice():\n",
    "    global cpu\n",
    "    cpu = random.choice(gestures)\n",
    "    print(\"CPU plays with:\", cpu)"
   ]
  },
  {
   "cell_type": "code",
   "execution_count": 34,
   "metadata": {},
   "outputs": [],
   "source": [
    "def player_choice():\n",
    "    global player\n",
    "    player = input()\n",
    "    while (player != \"rock\") and (player != \"paper\") and (player != \"scissors\") and (player != \"lizard\") and (player != \"spock\"):\n",
    "        player = input()\n",
    "    print(\"Player plays with:\", player)"
   ]
  },
  {
   "cell_type": "code",
   "execution_count": 35,
   "metadata": {},
   "outputs": [],
   "source": [
    "def win_check():\n",
    "    global result\n",
    "    if player == cpu:\n",
    "        result = 0\n",
    "        \n",
    "    elif player == \"rock\":\n",
    "        if cpu == \"paper\" or \"spock\":\n",
    "            result = 1\n",
    "        elif cpu == \"scissors\" or \"lizard\":\n",
    "            result = 2\n",
    "    \n",
    "    elif player == \"paper\":\n",
    "        if cpu == \"scissors\" or \"lizard\":\n",
    "            result = 1\n",
    "        elif cpu == \"rock\" or \"spock\":\n",
    "            result = 2\n",
    "            \n",
    "    elif player == \"scissors\":\n",
    "        if cpu == \"rock\" or \"spock\":\n",
    "            result = 1\n",
    "        elif cpu== \"paper\" or \"lizard\":\n",
    "            result = 2\n",
    "    \n",
    "    elif player == \"lizard\":\n",
    "        if cpu == \"rock\" or \"scissors\":\n",
    "            result = 1\n",
    "        elif cpu == \"spock\" or \"paper\":\n",
    "            result = 2\n",
    "            \n",
    "    elif player == \"spock\":\n",
    "        if cpu == \"lizard\" or \"paper\":\n",
    "            result = 1\n",
    "        elif cpu == \"rock\" or \"scissors\":\n",
    "            result = 2"
   ]
  },
  {
   "cell_type": "code",
   "execution_count": 36,
   "metadata": {},
   "outputs": [],
   "source": [
    "def one_round():\n",
    "    global player_score\n",
    "    global cpu_score\n",
    "    global played_rounds\n",
    "    \n",
    "    player_choice()\n",
    "    \n",
    "    cpu_choice()\n",
    "    \n",
    "    win_check()\n",
    "    \n",
    "    if result == 2:\n",
    "        print(\"Player wins\")\n",
    "        player_score += 1\n",
    "        played_rounds += 1\n",
    "        \n",
    "    elif result == 1:\n",
    "        print(\"CPU wins\")\n",
    "        cpu_score += 1\n",
    "        played_rounds += 1\n",
    "        \n",
    "    elif result == 0:\n",
    "        print(\"Tie\")\n",
    "        played_rounds += 1\n",
    "        "
   ]
  },
  {
   "cell_type": "code",
   "execution_count": 46,
   "metadata": {},
   "outputs": [
    {
     "name": "stdout",
     "output_type": "stream",
     "text": [
      "Welcome to Rock - Paper - Scissors - Lizard - Spock game :) \n",
      "how many rounds do you want to play?\n",
      "5\n",
      "Fine, the maximum number of rounds will be 5. But the game will stop as soon as one player reach 3 points. \n",
      "Good luck!\n",
      "GAME STARTS!\n",
      "Select your gesture\n",
      "spock\n",
      "Player plays with: spock\n",
      "CPU plays with: lizard\n",
      "CPU wins\n",
      "Player 0 points\n",
      "CPU 1 points\n",
      "Round 1 / 5\n",
      "------------------------------------\n",
      "Keep playing! Make a new choice\n",
      "lizard\n",
      "Player plays with: lizard\n",
      "CPU plays with: lizard\n",
      "Tie\n",
      "Player 0 points\n",
      "CPU 1 points\n",
      "Round 2 / 5\n",
      "------------------------------------\n",
      "Keep playing! Make a new choice\n",
      "rock\n",
      "Player plays with: rock\n",
      "CPU plays with: paper\n",
      "CPU wins\n",
      "Player 0 points\n",
      "CPU 2 points\n",
      "Round 3 / 5\n",
      "------------------------------------\n",
      "Keep playing! Make a new choice\n",
      "paper\n",
      "Player plays with: paper\n",
      "CPU plays with: scissors\n",
      "CPU wins\n",
      "Player 0 points\n",
      "CPU 3 points\n",
      "Round 4 / 5\n",
      "------------------------------------\n",
      "Keep playing! Make a new choice\n",
      "lizard\n",
      "Player plays with: lizard\n",
      "CPU plays with: scissors\n",
      "CPU wins\n",
      "----> GAME FINISHED <----\n",
      "OMG! CPU is the winner with 4 points, better luck next time :(\n"
     ]
    }
   ],
   "source": [
    "print(\"Welcome to Rock - Paper - Scissors - Lizard - Spock game :) \\nhow many rounds do you want to play?\")\n",
    "max_rounds()\n",
    "print(\"Fine, the maximum number of rounds will be \" + str(n_rounds) + \". But the game will stop as soon as one player reach\", rounds_to_win, \"points. \\nGood luck!\")\n",
    "print(\"GAME STARTS!\")\n",
    "played_rounds = 0\n",
    "print(\"Select your gesture\")\n",
    "one_round()\n",
    "\n",
    "while (player_score < rounds_to_win or cpu_score < rounds_to_win) and played_rounds < n_rounds:\n",
    "    print(\"Player\", player_score, \"points\")\n",
    "    print(\"CPU\", cpu_score, \"points\")\n",
    "    print(\"Round\", played_rounds,\"/\", n_rounds)\n",
    "    print(\"------------------------------------\")\n",
    "    print(\"Keep playing! Make a new choice\")\n",
    "    one_round()\n",
    "    \n",
    "print(\"----> GAME FINISHED <----\")\n",
    "\n",
    "if player_score > cpu_score:\n",
    "    print(\"You are the winner with\", player_score, \"points, congratulations!\")\n",
    "    \n",
    "elif player_score < cpu_score:\n",
    "    print(\"OMG! CPU is the winner with\", cpu_score, \"points, better luck next time :(\")\n",
    "    \n",
    "elif player_score == cpu_score:\n",
    "    print(\"So intense! There is a tie with\", player_score, \"points.\")"
   ]
  }
 ],
 "metadata": {
  "kernelspec": {
   "display_name": "Python 3",
   "language": "python",
   "name": "python3"
  },
  "language_info": {
   "codemirror_mode": {
    "name": "ipython",
    "version": 3
   },
   "file_extension": ".py",
   "mimetype": "text/x-python",
   "name": "python",
   "nbconvert_exporter": "python",
   "pygments_lexer": "ipython3",
   "version": "3.7.4"
  }
 },
 "nbformat": 4,
 "nbformat_minor": 2
}
